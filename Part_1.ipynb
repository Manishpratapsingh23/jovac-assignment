{
  "metadata": {
    "kernelspec": {
      "name": "python",
      "display_name": "Python (Pyodide)",
      "language": "python"
    },
    "language_info": {
      "codemirror_mode": {
        "name": "python",
        "version": 3
      },
      "file_extension": ".py",
      "mimetype": "text/x-python",
      "name": "python",
      "nbconvert_exporter": "python",
      "pygments_lexer": "ipython3",
      "version": "3.8"
    },
    "colab": {
      "provenance": []
    }
  },
  "nbformat_minor": 5,
  "nbformat": 4,
  "cells": [
    {
      "id": "XGiosEC1rn77",
      "cell_type": "code",
      "source": "# Task 1: Creating Arrays\n# 1. Write a Python program to:\n# o Create a 1D NumPy array of 10 integers ranging from 1 to 10.\n# o Create a 2D NumPy array of shape (3, 3) with integers from 1 to 9.\n# o Create a 3D NumPy array with random floating-point numbers of shape (3, 5, 3).\n# 2. Display the shape, size, and datatype of each array.\n\nimport numpy as np\narr1 = np.arange(1, 11)\narr2 = np.arange(1, 10).reshape(3, 3)\narr3 = np.random.rand(3, 5, 3)\n\n# Display\ndef show_array_details(label, arr):\n    print(f\"{label}:\\n{arr}\")\n    print(f\"Shape: {arr.shape}\")\n    print(f\"Size: {arr.size}\")\n    print(f\"Data Type: {arr.dtype}\")\n    print()\n\n# Display\nshow_array_details(\"1D Array\", arr1)\nshow_array_details(\"2D Array\", arr2)\nshow_array_details(\"3D Array\", arr3)\n",
      "metadata": {
        "id": "XGiosEC1rn77"
      },
      "outputs": [],
      "execution_count": null
    },
    {
      "id": "-XMeuFPDs0li",
      "cell_type": "code",
      "source": "# Task 2: Array Indexing and Slicing\n# 1. Create a NumPy array from the following list:\n# data = [10, 20, 30, 40, 50, 60, 70, 80, 90]\n# 2. Write a Python program to:\n# o Retrieve the first three elements of the array.\n# o Retrieve every alternate element of the array.\n# o Reverse the array.\n# 3. Perform the above operations and display the results\n\nvalues = [10, 20, 30, 40, 50, 60, 70, 80, 90]\nnum_arr = np.array(values)\nfirst_3 = num_arr[:3]\nalternates = num_arr[::2]\nreversed_arr = num_arr[::-1]\n\n# Display\nprint(\"Original Array:\", num_arr)\nprint(\"First Three Elements:\", first_3)\nprint(\"Every Alternate Element:\", alternates)\nprint(\"Reversed Array:\", reversed_arr)\n",
      "metadata": {
        "id": "-XMeuFPDs0li"
      },
      "outputs": [],
      "execution_count": null
    },
    {
      "id": "e468729e",
      "cell_type": "code",
      "source": "# Task 3: Mathematical Operations\n# 1. Create two NumPy arrays, A and B, each with 5 random integers between 1 and 20.\n# 2. Write a Python program to:\n# o Add, subtract, multiply, and divide the two arrays element-wise.\n# o Compute the dot product of the arrays.\n# o Find the mean, median, standard deviation, and variance of array A.\n# o Identify the maximum and minimum values in array B and their indices.\n\narr_x = np.random.randint(1, 21, 5)\narr_y = np.random.randint(1, 21, 5)\n\nsum_result = arr_x + arr_y\ndiff_result = arr_x - arr_y\nprod_result = arr_x * arr_y\ndiv_result = arr_x / arr_y\n\ndot_prod = np.dot(arr_x, arr_y)\n\nmean_x = np.mean(arr_x)\nmedian_x = np.median(arr_x)\nstd_dev_x = np.std(arr_x)\nvariance_x = np.var(arr_x)\n\nmax_y = np.max(arr_y)\nmin_y = np.min(arr_y)\nmax_idx_y = np.argmax(arr_y)\nmin_idx_y = np.argmin(arr_y)\n\n# Display\nprint(\"Array a:\", arr_x)\nprint(\"Array b:\", arr_y)\n\nprint(\"\\nAddition:\", sum_result)\nprint(\"Subtraction:\", diff_result)\nprint(\"Multiplication:\", prod_result)\nprint(\"Division:\", div_result)\n\nprint(\"\\nDot Product:\", dot_prod)\n\nprint(\"\\nIn array a:\")\nprint(\"Mean:\", mean_x)\nprint(\"Median:\", median_x)\nprint(\"Standard Deviation:\", std_dev_x)\nprint(\"Variance:\", variance_x)\n\nprint(\"\\nIn array b:\")\nprint(\"Maximum Value:\", max_y, \"at Index:\", max_idx_y)\nprint(\"Minimum Value:\", min_y, \"at Index:\", min_idx_y)\n",
      "metadata": {
        "id": "e468729e",
        "outputId": "236cdb4c-9dd9-4ddc-c664-a5de5901e069"
      },
      "outputs": [
        {
          "name": "stdout",
          "output_type": "stream",
          "text": "Array a: [10 16 17 17  9]\n,Array b: [11 20 15  5  6]\n,\n,Addition: [21 36 32 22 15]\n,Subtraction: [-1 -4  2 12  3]\n,Multiplication: [110 320 255  85  54]\n,Division: [0.90909091 0.8        1.13333333 3.4        1.5       ]\n,\n,Dot Product: 824\n,\n,In array a:\n,Mean: 13.8\n,Median: 16.0\n,Standard Deviation: 3.54400902933387\n,Variance: 12.559999999999999\n,\n,In array b:\n,Maximum Value: 20 at Index: 1\n,Minimum Value: 5 at Index: 3\n"
        }
      ],
      "execution_count": null
    },
    {
      "id": "7464507c",
      "cell_type": "code",
      "source": "\n# Task 4: Reshaping and Transposing\n# 1. Create a 1D NumPy array of 12 integers ranging from 1 to 12.\n# 2. Write a Python program to:\n# o Reshape the array into a 2D array of shape (4, 3).\n# o Reshape the array into a 3D array of shape (2, 2, 3).\n# o Transpose the reshaped 2D array and display its shape.\n\nflat_arr = np.arange(1, 13)\nmatrix_2d = flat_arr.reshape(4, 3)\nmatrix_3d = flat_arr.reshape(2, 2, 3)\ntransposed_matrix = matrix_2d.T\n\n# Display\nprint(\"1D Array:\", flat_arr)\nprint(\"\\nReshaped 2D Array (4,3):\\n\", matrix_2d)\nprint(\"\\nReshaped 3D Array (2,2,3):\\n\", matrix_3d)\nprint(\"\\nTransposed 2D Array:\\n\", transposed_matrix)\nprint(\"\\nShape of Transposed Array:\", transposed_matrix.shape)\n",
      "metadata": {
        "id": "7464507c",
        "outputId": "9f427d20-6144-4fc1-d502-f198000f6755"
      },
      "outputs": [
        {
          "name": "stdout",
          "output_type": "stream",
          "text": "1D Array: [ 1  2  3  4  5  6  7  8  9 10 11 12]\n,\n,Reshaped 2D Array (4,3):\n, [[ 1  2  3]\n, [ 4  5  6]\n, [ 7  8  9]\n, [10 11 12]]\n,\n,Reshaped 3D Array (2,2,3):\n, [[[ 1  2  3]\n,  [ 4  5  6]]\n,\n, [[ 7  8  9]\n,  [10 11 12]]]\n,\n,Transposed 2D Array:\n, [[ 1  4  7 10]\n, [ 2  5  8 11]\n, [ 3  6  9 12]]\n,\n,Shape of Transposed Array: (3, 4)\n"
        }
      ],
      "execution_count": null
    },
    {
      "id": "b6721295",
      "cell_type": "code",
      "source": "# Task 5: Boolean Masking and Filtering\n# 1. Create a NumPy array with 15 random integers between 10 and 50.\n# 2. Write a Python program to:\n# o Find all elements greater than 25.\n# o Replace all elements less than 30 with 0.\n# o Count the number of elements divisible by 5.\n\nnums = np.random.randint(10, 51, 15)\nabove_25 = nums[nums > 25]\nmasked_array = np.where(nums < 30, 0, nums)\ndiv_by_5_count = np.sum(nums % 5 == 0)\n\n# Display\nprint(\"Array:\", nums)\nprint(\"\\nElements greater than 25:\", above_25)\nprint(\"\\nModified Array (values < 30 set to 0):\", masked_array)\nprint(\"\\nCount of elements divisible by 5:\", div_by_5_count)\n",
      "metadata": {
        "id": "b6721295",
        "outputId": "b366d92a-5fe7-42ab-ac8b-34a4c93e1c2b"
      },
      "outputs": [
        {
          "name": "stdout",
          "output_type": "stream",
          "text": "Array: [23 26 44 21 32 33 39 47 23 18 38 41 36 40 10]\n,\n,Elements greater than 25: [26 44 32 33 39 47 38 41 36 40]\n,\n,Modified Array (values < 30 set to 0): [ 0  0 44  0 32 33 39 47  0  0 38 41 36 40  0]\n,\n,Count of elements divisible by 5: 2\n"
        }
      ],
      "execution_count": null
    },
    {
      "id": "39b350b2",
      "cell_type": "code",
      "source": "# Task 7: Generic\n# 1. Create a Python program that:\n# o Generates two large random arrays of size (100, 100).\n# o Performs matrix multiplication on the two arrays.\n# o Finds the determinant and inverse of the resulting matrix (if possible).\n# o Measures the time taken to complete these operations.\n\nimport time\nmat_x = np.random.rand(100, 100)\nmat_y = np.random.rand(100, 100)\nt_start = time.time()\nproduct = np.matmul(mat_x, mat_y)\ndeterminant = np.linalg.det(product)\nif determinant != 0:\n    inv_matrix = np.linalg.inv(product)\n    inv_status = \"Inverse computed successfully.\"\nelse:\n    inv_status = \"Inverse does not exist.\"\n\nt_end = time.time()\nelapsed = t_end - t_start\n\n# Display\nprint(\"Matrix multiplication, determinant, and inverse operation completed.\")\nprint(f\"Determinant: {determinant:.4e}\")\nprint(inv_status)\nprint(f\"Total time taken: {elapsed:.4f} seconds\")\n\n\n",
      "metadata": {
        "id": "39b350b2",
        "outputId": "bc749af6-2df1-455f-b7da-ef8858c432bb"
      },
      "outputs": [
        {
          "name": "stdout",
          "output_type": "stream",
          "text": "Matrix multiplication, determinant, and inverse operation completed.\n,Determinant: -7.7407e+51\n,Inverse computed successfully.\n,Total time taken: 0.1023 seconds\n"
        }
      ],
      "execution_count": null
    },
    {
      "id": "efc71b10-d485-45c8-ba4d-7775d9ad28b9",
      "cell_type": "code",
      "source": "# Task 7: Generic\n# 1. Create a Python program that:\n# o Generates two large random arrays of size (100, 100).\n# o Performs matrix multiplication on the two arrays.\n# o Finds the determinant and inverse of the resulting matrix (if possible).\n# o Measures the time taken to complete these operations.\n\nimport time\nmat_x = np.random.rand(100, 100)\nmat_y = np.random.rand(100, 100)\nt_start = time.time()\nproduct = np.matmul(mat_x, mat_y)\ndeterminant = np.linalg.det(product)\nif determinant != 0:\n    inv_matrix = np.linalg.inv(product)\n    inv_status = \"Inverse computed successfully.\"\nelse:\n    inv_status = \"Inverse does not exist.\"\n\nt_end = time.time()\nelapsed = t_end - t_start\n\n# Display\nprint(\"Matrix multiplication, determinant, and inverse operation completed.\")\nprint(f\"Determinant: {determinant:.4e}\")\nprint(inv_status)\nprint(f\"Total time taken: {elapsed:.4f} seconds\")\n\n\n",
      "metadata": {
        "id": "39b350b2",
        "outputId": "bc749af6-2df1-455f-b7da-ef8858c432bb"
      },
      "outputs": [
        {
          "name": "stdout",
          "output_type": "stream",
          "text": "Matrix multiplication, determinant, and inverse operation completed.\n,Determinant: -7.7407e+51\n,Inverse computed successfully.\n,Total time taken: 0.1023 seconds\n"
        }
      ],
      "execution_count": null
    },
    {
      "id": "f47a7b3b-6875-4b0f-8731-0832e8ec29f4",
      "cell_type": "code",
      "source": "# Task 6: Working with Built-in Functions\n# 1. Use NumPy's built-in functions to:\n# o Create an array of 10 equally spaced values between 0 and 1.\n# o Create an identity matrix of size 4x4.\n# o Generate a 1D array of 20 random integers between 1 and 100, sort it, and find the 5 largest elements.\n\nspaced_values = np.linspace(0, 1, 10) \nidentity_4x4 = np.eye(4)\nrand_nums = np.random.randint(1, 101, 20)\nsorted_nums = np.sort(rand_nums)\ntop_5 = sorted_nums[-5:]\n\n# Display\nprint(\"An Array of 10 equally spaced values between 0 and 1:\\n\", spaced_values)\nprint(\"\\n4x4 Identity Matrix:\\n\", identity_4x4)\nprint(\"\\nRandom Array of 20 integers between 1 and 100:\", rand_nums)\nprint(\"\\nSorted Array:\", sorted_nums)\nprint(\"\\nthe 5 largest elements in the array:\", top_5)\n",
      "metadata": {
        "trusted": true
      },
      "outputs": [],
      "execution_count": null
    },
    {
      "id": "4f23dcf2-37d1-47ce-83ff-eed256d71398",
      "cell_type": "code",
      "source": "# Task 7: Generic\n# 1. Create a Python program that:\n# o Generates two large random arrays of size (100, 100).\n# o Performs matrix multiplication on the two arrays.\n# o Finds the determinant and inverse of the resulting matrix (if possible).\n# o Measures the time taken to complete these operations.\n\nimport time\nmat_x = np.random.rand(100, 100)\nmat_y = np.random.rand(100, 100)\nt_start = time.time()\nproduct = np.matmul(mat_x, mat_y)\ndeterminant = np.linalg.det(product)\nif determinant != 0:\n    inv_matrix = np.linalg.inv(product)\n    inv_status = \"Inverse computed successfully.\"\nelse:\n    inv_status = \"Inverse does not exist.\"\n\nt_end = time.time()\nelapsed = t_end - t_start\n\n# Display\nprint(\"Matrix multiplication, determinant, and inverse operation completed.\")\nprint(f\"Determinant: {determinant:.4e}\")\nprint(inv_status)\nprint(f\"Total time taken: {elapsed:.4f} seconds\")\n\n\n",
      "metadata": {
        "id": "39b350b2",
        "outputId": "bc749af6-2df1-455f-b7da-ef8858c432bb"
      },
      "outputs": [
        {
          "name": "stdout",
          "output_type": "stream",
          "text": "Matrix multiplication, determinant, and inverse operation completed.\n,Determinant: -7.7407e+51\n,Inverse computed successfully.\n,Total time taken: 0.1023 seconds\n"
        }
      ],
      "execution_count": null
    },
    {
      "id": "_W_92yhFutGM",
      "cell_type": "code",
      "source": "",
      "metadata": {
        "id": "_W_92yhFutGM"
      },
      "outputs": [],
      "execution_count": null
    }
  ]
}