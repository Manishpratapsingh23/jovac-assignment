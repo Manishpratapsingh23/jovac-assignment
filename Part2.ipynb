{
  "metadata": {
    "kernelspec": {
      "name": "python",
      "display_name": "Python (Pyodide)",
      "language": "python"
    },
    "language_info": {
      "codemirror_mode": {
        "name": "python",
        "version": 3
      },
      "file_extension": ".py",
      "mimetype": "text/x-python",
      "name": "python",
      "nbconvert_exporter": "python",
      "pygments_lexer": "ipython3",
      "version": "3.8"
    }
  },
  "nbformat_minor": 5,
  "nbformat": 4,
  "cells": [
    {
      "id": "c6254788-d95f-4543-be80-bd3bf0c3379c",
      "cell_type": "code",
      "source": "import pandas as pd\nprint(\"Pandas imported\")\n\nimport numpy as np\nprint(\"NumPy imported\")\n",
      "metadata": {
        "trusted": true
      },
      "outputs": [],
      "execution_count": null
    },
    {
      "id": "e4f11d95",
      "cell_type": "code",
      "source": "# Task 1: Working with Series\n# 1.Create a Pandas Series from the following list: data = [25, 30, 35, 40, 45]\n# 2. Write a Python program to:\n# o Assign custom indices ['A', 'B', 'C', 'D', 'E'] to the Series.\n# o Display the first three elements of the Series.\n# o Calculate the mean, median, and standard deviation of the Series.\n\nimport pandas as pd\nvalues = [25, 30, 35, 40, 45]\nseries_obj = pd.Series(values)\nseries_obj.index = ['A', 'B', 'C', 'D', 'E']\n\n# Display\nprint(\"First three elements of the Series:\")\nprint(series_obj[:3])\n\navg = series_obj.mean()\nmed = series_obj.median()\nstd_dev = series_obj.std()\n\n# Display\nprint()\nprint(f\"Mean: {avg}\")\nprint(f\"Median: {med}\")\nprint(f\"Standard Deviation: {std_dev}\")\n",
      "metadata": {
        "trusted": true
      },
      "outputs": [],
      "execution_count": null
    },
    {
      "id": "41f7b338",
      "cell_type": "code",
      "source": "# Task 2: Creating and Inspecting DataFrames\n# 1.Create a Pandas DataFrame with the following data:\n# Name Age Gender Marks \n# Alice 20 Female 85\n# Bob 22 Male 78\n# Carol 19 Female 92\n# David 21 Male 74\n# Eve 20 Female 88\n# 2. Write a Python program to:\n# o Display the first two rows of the DataFrame.\n# o Display the column names, data types, and summary statistics.\n# o Add a new column Passed that contains True if Marks >= 80 and False otherwise.\n\nstudent_data = {\n    'Name': ['Alice', 'Bob', 'Carol', 'David', 'Eve'],\n    'Age': [20, 22, 19, 21, 20],\n    'Gender': ['Female', 'Male', 'Female', 'Male', 'Female'],\n    'Marks': [85, 78, 92, 74, 88]\n}\n\nstudent_df = pd.DataFrame(student_data)\nprint(\"First two rows of the DataFrame:\")\nprint(student_df.head(2))\n\nprint(\"\\nColumn Names:\")\nprint(student_df.columns.tolist())\n\nprint(\"\\nData Types:\")\nprint(student_df.dtypes)\n\nprint(\"\\nSummary Statistics:\")\nprint(student_df.describe(include='all'))\n\nstudent_df['Passed'] = student_df['Marks'] >= 80\n\nprint(\"\\n New Column 'Passed' added:\")\nprint(student_df)\n",
      "metadata": {
        "trusted": true
      },
      "outputs": [],
      "execution_count": null
    },
    {
      "id": "82b5547d",
      "cell_type": "code",
      "source": "# Task 3: Data Selection and Filtering\n# 1. Using the DataFrame from Task 2, write a Python program to:\n# o Select and display the Name and Marks columns.\n# o Filter and display records where Marks > 80.\n# o Display the record of the student with the highest marks.\n\nprint(\"Name and Marks columns:\")\nprint(student_df[['Name', 'Marks']])\n\nprint(\"\\nStudents with Marks > 80:\")\nprint(student_df[student_df['Marks'] > 80])\n\ntop_score = student_df['Marks'].max()\ntop_student = student_df[student_df['Marks'] == top_score]\n\nprint(\"\\nStudent with the highest marks:\")\nprint(top_student)\n",
      "metadata": {
        "trusted": true
      },
      "outputs": [],
      "execution_count": null
    },
    {
      "id": "f754f93f",
      "cell_type": "code",
      "source": "# Task 4: Handling Missing Data\n# 1. Modify the DataFrame from Task 2 by introducing missing values:\n# 2. df.loc[1, 'Marks'] = None\n# 3. df.loc[4, 'Age'] = None\n# 4. Write a Python program to:\n# o Identify missing values in the DataFrame.\n# o Fill missing values in the Marks column with the column's mean.\n# o Drop rows where the Age column has missing values.\n\nstudent_df.loc[1, 'Marks'] = None  \nstudent_df.loc[4, 'Age'] = None     \n\nprint(\"Missing values in the DataFrame:\")\nprint(student_df.isnull())\n\nmean_marks = student_df['Marks'].mean()\nstudent_df['Marks'] = student_df['Marks'].fillna(mean_marks)\nprint(\"\\nDataFrame after filling missing Marks with mean:\")\nprint(student_df)\n\ncleaned_df = student_df.dropna(subset=['Age'])\nprint(\"\\nDataFrame after dropping rows with missing Age:\")\nprint(cleaned_df)\n",
      "metadata": {
        "trusted": true
      },
      "outputs": [],
      "execution_count": null
    },
    {
      "id": "978e1a21",
      "cell_type": "code",
      "source": "# Task 5: Grouping and Aggregation\n# 1. Using the DataFrame from Task 2, write a Python program to:\n# o Group the data by Gender and calculate the mean age and marks for each gender.\n# o Count the number of students in each gender group.\n\ngroup_means = student_df.groupby('Gender')[['Age', 'Marks']].mean()\nprint(\"Mean Age and Marks by Gender:\")\nprint(group_means)\n\ngender_counts = student_df['Gender'].value_counts()\nprint(\"\\nNumber of students in each gender group:\")\nprint(gender_counts)\n",
      "metadata": {
        "trusted": true
      },
      "outputs": [],
      "execution_count": null
    },
    {
      "id": "88009b80",
      "cell_type": "code",
      "source": "",
      "metadata": {
        "trusted": true
      },
      "outputs": [],
      "execution_count": null
    },
    {
      "id": "7eb4e99e",
      "cell_type": "code",
      "source": "# Task 7: General\n# 1. Download a sample dataset from Kaggle or use any public dataset.\n# 2. Write a Python program to:\n# o Load the dataset using Pandas.\n# o Perform exploratory data analysis (EDA) by summarizing key statistics, checking for missing values, and visualizing data trends using Matplotlib or Seaborn.\n# o Document your findings in Markdown or comments.\n\nimport matplotlib.pyplot as plt\nimport seaborn as sns\n\ndf = pd.read_csv(\"electric_vehicles_spec_2025.csv\")\n\nprint(\"\\nSummary statistics:\")\nprint(df.describe())\n\nprint(\"\\nMissing values in each column:\")\nprint(df.isnull().sum())\n\ndf_speed = df[['model', 'top_speed_kmh']].dropna()\n# Sort by top speed and get the top 10 models\ntop_models = df_speed.sort_values(by='top_speed_kmh', ascending=False).drop_duplicates('model').head(10)\n\n# Plot\nplt.figure(figsize=(12, 6))\nplt.bar(top_models['model'], top_models['top_speed_kmh'], color='skyblue')\nplt.title(\"Top 10 Fastest Electric Vehicle Models\")\nplt.xlabel(\"Model\")\nplt.ylabel(\"Top Speed (km/h)\")\nplt.xticks(rotation=45)\nplt.grid(axis='y', linestyle='--')\nplt.tight_layout()\nplt.show()\n\n# Findings\n# - GranTurismo Folgore leads with a top speed of over 320 km/h.\n# - Tesla holds 3 strong positions: Model S Plaid, Model X Plaid, and Model 3 Performance.\n# - All vehicles in the top 10 are luxury or performance-focused, indicating a clear trend in high-speed EV development.",
      "metadata": {
        "trusted": true
      },
      "outputs": [],
      "execution_count": null
    },
    {
      "id": "b485e0f6-981f-4790-9e1b-d8f749167389",
      "cell_type": "code",
      "source": "",
      "metadata": {
        "trusted": true
      },
      "outputs": [],
      "execution_count": null
    },
    {
      "id": "3296914f-ceb5-47be-bf69-efcbe6f436a8",
      "cell_type": "code",
      "source": "",
      "metadata": {
        "trusted": true
      },
      "outputs": [],
      "execution_count": null
    },
    {
      "id": "99750ba5-c2ac-48bf-801b-d32ab89c933e",
      "cell_type": "code",
      "source": "",
      "metadata": {
        "trusted": true
      },
      "outputs": [],
      "execution_count": null
    },
    {
      "id": "4ed3656a-ceed-4f30-93b0-9293c27c1f41",
      "cell_type": "code",
      "source": "",
      "metadata": {
        "trusted": true
      },
      "outputs": [],
      "execution_count": null
    },
    {
      "id": "50ff502d-02a2-4e88-b242-3e10d23180a6",
      "cell_type": "code",
      "source": "",
      "metadata": {
        "trusted": true
      },
      "outputs": [],
      "execution_count": null
    },
    {
      "id": "8c6aafc3-c85d-46d5-8dda-2ad1959c1fd3",
      "cell_type": "code",
      "source": "",
      "metadata": {
        "trusted": true
      },
      "outputs": [],
      "execution_count": null
    },
    {
      "id": "8e838002-dc5c-4398-a5f0-59aef037c251",
      "cell_type": "code",
      "source": "",
      "metadata": {
        "trusted": true
      },
      "outputs": [],
      "execution_count": null
    }
  ]
}