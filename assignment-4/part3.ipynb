{
 "cells": [
  {
   "cell_type": "code",
   "execution_count": 8,
   "id": "f9f1a0f4",
   "metadata": {},
   "outputs": [],
   "source": [
    "from sklearn.datasets import fetch_openml\n",
    "from sklearn.model_selection import train_test_split\n",
    "from sklearn.preprocessing import LabelEncoder\n",
    "from sklearn.metrics import accuracy_score, precision_score, recall_score, f1_score\n",
    "from sklearn.tree import DecisionTreeClassifier\n",
    "from sklearn.ensemble import RandomForestClassifier, AdaBoostClassifier\n",
    "import matplotlib.pyplot as plt\n",
    "import pandas as pd\n",
    "import time"
   ]
  },
  {
   "cell_type": "code",
   "execution_count": 9,
   "id": "dd0b8bb3",
   "metadata": {},
   "outputs": [
    {
     "name": "stdout",
     "output_type": "stream",
     "text": [
      "Decision Tree Metrics:\n",
      "Accuracy: 0.7608\n",
      "Precision: 0.7361\n",
      "Recall: 0.6310\n",
      "\n",
      "Random Forest Metrics:\n",
      "Accuracy: 0.7656\n",
      "Precision: 0.7612\n",
      "Recall: 0.6071\n"
     ]
    },
    {
     "data": {
      "image/png": "[encoded data removed]",
      "text/plain": [
       "<Figure size 1000x600 with 1 Axes>"
      ]
     },
     "metadata": {},
     "output_type": "display_data"
    }
   ],
   "source": [
    "'''\n",
    " Random Forest vs Decision Tree\n",
    "● Train a RandomForestClassifier on the same dataset used for Task 5.\n",
    "● Compare accuracy, precision, and recall with the standalone decision tree.\n",
    "● Plot feature importances.\n",
    "\n",
    "'''\n",
    "\n",
    "titanic = fetch_openml(name='titanic', version=1, as_frame=True)\n",
    "df = titanic.frame.copy()\n",
    "df = df.drop(columns=['cabin', 'boat', 'body', 'home.dest', 'ticket', 'name'])\n",
    "df = df.dropna()\n",
    "\n",
    "label_encoders = {}\n",
    "for column in df.select_dtypes(include='category').columns:\n",
    "    le = LabelEncoder()\n",
    "    df[column] = le.fit_transform(df[column])\n",
    "    label_encoders[column] = le\n",
    "\n",
    "X = df.drop(columns='survived')\n",
    "y = df['survived'].astype(int)\n",
    "X_train, X_test, y_train, y_test = train_test_split(X, y, test_size=0.2, random_state=42)\n",
    "\n",
    "dt = DecisionTreeClassifier(random_state=42)\n",
    "dt.fit(X_train, y_train)\n",
    "\n",
    "rf = RandomForestClassifier(random_state=42)\n",
    "rf.fit(X_train, y_train)\n",
    "\n",
    "dt_preds = dt.predict(X_test)\n",
    "rf_preds = rf.predict(X_test)\n",
    "\n",
    "print(\"Decision Tree Metrics:\")\n",
    "print(f\"Accuracy: {accuracy_score(y_test, dt_preds):.4f}\")\n",
    "print(f\"Precision: {precision_score(y_test, dt_preds):.4f}\")\n",
    "print(f\"Recall: {recall_score(y_test, dt_preds):.4f}\")\n",
    "\n",
    "print(\"\\nRandom Forest Metrics:\")\n",
    "print(f\"Accuracy: {accuracy_score(y_test, rf_preds):.4f}\")\n",
    "print(f\"Precision: {precision_score(y_test, rf_preds):.4f}\")\n",
    "print(f\"Recall: {recall_score(y_test, rf_preds):.4f}\")\n",
    "\n",
    "importances = pd.Series(rf.feature_importances_, index=X.columns).sort_values(ascending=False)\n",
    "importances.plot(kind='barh', figsize=(10, 6), title='Feature Importances - Random Forest')\n",
    "plt.gca().invert_yaxis()\n",
    "plt.tight_layout()\n",
    "plt.show()\n",
    "\n",
    "\n",
    "\n",
    "\n"
   ]
  },
  {
   "cell_type": "code",
   "execution_count": 10,
   "id": "b7099dac",
   "metadata": {},
   "outputs": [
    {
     "name": "stdout",
     "output_type": "stream",
     "text": [
      "               Accuracy  F1 Score  Train Time\n",
      "Decision Tree  0.760766  0.679487    0.045019\n",
      "Random Forest  0.765550  0.675497    0.617771\n",
      "AdaBoost       0.789474  0.710526    0.263047\n"
     ]
    }
   ],
   "source": [
    "'''\n",
    " AdaBoost or Gradient Boosting\n",
    "● Train an AdaBoostClassifier or GradientBoostingClassifier.\n",
    "● Use a suitable dataset.\n",
    "● Compare it with Random Forest and Decision Tree in terms of:\n",
    "○ Accuracy\n",
    "○ F1-score\n",
    "○ Training time (optional)\n",
    "\n",
    "\n",
    "'''\n",
    "\n",
    "titanic = fetch_openml(name='titanic', version=1, as_frame=True)\n",
    "df = titanic.frame.copy()\n",
    "df = df.drop(columns=['cabin', 'boat', 'body', 'home.dest', 'ticket', 'name'])\n",
    "df = df.dropna()\n",
    "\n",
    "for col in df.select_dtypes(include='category').columns:\n",
    "    df[col] = LabelEncoder().fit_transform(df[col])\n",
    "\n",
    "X = df.drop(columns='survived')\n",
    "y = df['survived'].astype(int)\n",
    "X_train, X_test, y_train, y_test = train_test_split(X, y, test_size=0.2, random_state=42)\n",
    "\n",
    "results = {}\n",
    "\n",
    "start = time.time()\n",
    "dt = DecisionTreeClassifier(random_state=42)\n",
    "dt.fit(X_train, y_train)\n",
    "preds_dt = dt.predict(X_test)\n",
    "results[\"Decision Tree\"] = {\n",
    "    \"Accuracy\": accuracy_score(y_test, preds_dt),\n",
    "    \"F1 Score\": f1_score(y_test, preds_dt),\n",
    "    \"Train Time\": time.time() - start\n",
    "}\n",
    "\n",
    "start = time.time()\n",
    "rf = RandomForestClassifier(random_state=42)\n",
    "rf.fit(X_train, y_train)\n",
    "preds_rf = rf.predict(X_test)\n",
    "results[\"Random Forest\"] = {\n",
    "    \"Accuracy\": accuracy_score(y_test, preds_rf),\n",
    "    \"F1 Score\": f1_score(y_test, preds_rf),\n",
    "    \"Train Time\": time.time() - start\n",
    "}\n",
    "\n",
    "start = time.time()\n",
    "ada = AdaBoostClassifier(random_state=42)\n",
    "ada.fit(X_train, y_train)\n",
    "preds_ada = ada.predict(X_test)\n",
    "results[\"AdaBoost\"] = {\n",
    "    \"Accuracy\": accuracy_score(y_test, preds_ada),\n",
    "    \"F1 Score\": f1_score(y_test, preds_ada),\n",
    "    \"Train Time\": time.time() - start\n",
    "}\n",
    "\n",
    "df_results = pd.DataFrame(results).T\n",
    "print(df_results)"
   ]
  },
  {
   "cell_type": "code",
   "execution_count": null,
   "id": "71a83c57",
   "metadata": {},
   "outputs": [],
   "source": []
  },
  {
   "cell_type": "code",
   "execution_count": null,
   "id": "e0989c34",
   "metadata": {},
   "outputs": [],
   "source": []
  },
  {
   "cell_type": "code",
   "execution_count": null,
   "id": "ab89f958",
   "metadata": {},
   "outputs": [],
   "source": []
  }
 ],
 "metadata": {
  "kernelspec": {
   "display_name": "Python 3",
   "language": "python",
   "name": "python3"
  },
  "language_info": {
   "codemirror_mode": {
    "name": "ipython",
    "version": 3
   },
   "file_extension": ".py",
   "mimetype": "text/x-python",
   "name": "python",
   "nbconvert_exporter": "python",
   "pygments_lexer": "ipython3",
   "version": "3.12.10"
  }
 },
 "nbformat": 4,
 "nbformat_minor": 5
}
