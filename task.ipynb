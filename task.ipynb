{
  "metadata": {
    "kernelspec": {
      "name": "python",
      "display_name": "Python (Pyodide)",
      "language": "python"
    },
    "language_info": {
      "codemirror_mode": {
        "name": "python",
        "version": 3
      },
      "file_extension": ".py",
      "mimetype": "text/x-python",
      "name": "python",
      "nbconvert_exporter": "python",
      "pygments_lexer": "ipython3",
      "version": "3.8"
    }
  },
  "nbformat_minor": 5,
  "nbformat": 4,
  "cells": [
    {
      "id": "bd74c193",
      "cell_type": "code",
      "source": "class InvalidAgeException(Exception):\n    def __init__(self, message=\"Invalid age provided\"):\n        super().__init__(message)\n\ndef get_and_verify_age():\n    while True:\n        try:\n            age = int(input(\"Enter your age: \"))\n            if age < 0 or age > 120:\n                raise InvalidAgeException(\"Age must be between 0 and 120.\")\n            print(f\" Age {age} is valid.\")\n            break  # exit loop if valid\n        except ValueError:\n            print(\"❌ Please enter a valid integer.\")\n        except InvalidAgeException as e:\n            print(f\" {e}\")\n\n# Run the function\nget_and_verify_age()\n",
      "metadata": {},
      "outputs": [
        {
          "name": "stdout",
          "output_type": "stream",
          "text": "✅ Age 9 is valid.\n"
        }
      ],
      "execution_count": 4
    },
    {
      "id": "941cc40f",
      "cell_type": "code",
      "source": "",
      "metadata": {},
      "outputs": [
        {
          "name": "stdout",
          "output_type": "stream",
          "text": "Student | Subject | Grade\n,Anaya | Math | A\n,Ahana | Math | A\n,Tisha | Math | O\n,Rakshi | Science | B+\n"
        }
      ],
      "execution_count": 5
    },
    {
      "id": "bcb258fc",
      "cell_type": "code",
      "source": "",
      "metadata": {},
      "outputs": [],
      "execution_count": null
    }
  ]
}